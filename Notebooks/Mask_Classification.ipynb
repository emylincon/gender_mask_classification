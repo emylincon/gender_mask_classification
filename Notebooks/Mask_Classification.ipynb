{
  "nbformat": 4,
  "nbformat_minor": 0,
  "metadata": {
    "colab": {
      "name": "Mask_Classification.ipynb",
      "provenance": [],
      "authorship_tag": "ABX9TyMKUe+9GxR9Vnfnfom9h2up",
      "include_colab_link": true
    },
    "kernelspec": {
      "name": "python3",
      "display_name": "Python 3"
    }
  },
  "cells": [
    {
      "cell_type": "markdown",
      "metadata": {
        "id": "view-in-github",
        "colab_type": "text"
      },
      "source": [
        "<a href=\"https://colab.research.google.com/github/emylincon/gender_mask_classification/blob/master/Mask_Classification.ipynb\" target=\"_parent\"><img src=\"https://colab.research.google.com/assets/colab-badge.svg\" alt=\"Open In Colab\"/></a>"
      ]
    },
    {
      "cell_type": "code",
      "metadata": {
        "id": "FZg4rlNzCl2V"
      },
      "source": [
        "from google.colab import drive"
      ],
      "execution_count": 1,
      "outputs": []
    },
    {
      "cell_type": "code",
      "metadata": {
        "colab": {
          "base_uri": "https://localhost:8080/"
        },
        "id": "tne6C2kDveVM",
        "outputId": "486902d6-8a2b-4705-9ce2-b38ec22092b3"
      },
      "source": [
        "drive.mount('/content/drive')"
      ],
      "execution_count": 2,
      "outputs": [
        {
          "output_type": "stream",
          "text": [
            "Mounted at /content/drive\n"
          ],
          "name": "stdout"
        }
      ]
    },
    {
      "cell_type": "code",
      "metadata": {
        "colab": {
          "base_uri": "https://localhost:8080/"
        },
        "id": "OMqeejv0vhLZ",
        "outputId": "59511bc4-6130-4b1e-c3c1-2e619cc894d8"
      },
      "source": [
        "! pip3 install keras==2.3.1"
      ],
      "execution_count": 3,
      "outputs": [
        {
          "output_type": "stream",
          "text": [
            "Collecting keras==2.3.1\n",
            "\u001b[?25l  Downloading https://files.pythonhosted.org/packages/ad/fd/6bfe87920d7f4fd475acd28500a42482b6b84479832bdc0fe9e589a60ceb/Keras-2.3.1-py2.py3-none-any.whl (377kB)\n",
            "\r\u001b[K     |▉                               | 10kB 14.2MB/s eta 0:00:01\r\u001b[K     |█▊                              | 20kB 20.0MB/s eta 0:00:01\r\u001b[K     |██▋                             | 30kB 19.0MB/s eta 0:00:01\r\u001b[K     |███▌                            | 40kB 11.2MB/s eta 0:00:01\r\u001b[K     |████▍                           | 51kB 8.0MB/s eta 0:00:01\r\u001b[K     |█████▏                          | 61kB 8.3MB/s eta 0:00:01\r\u001b[K     |██████                          | 71kB 8.1MB/s eta 0:00:01\r\u001b[K     |███████                         | 81kB 8.9MB/s eta 0:00:01\r\u001b[K     |███████▉                        | 92kB 9.5MB/s eta 0:00:01\r\u001b[K     |████████▊                       | 102kB 9.3MB/s eta 0:00:01\r\u001b[K     |█████████▌                      | 112kB 9.3MB/s eta 0:00:01\r\u001b[K     |██████████▍                     | 122kB 9.3MB/s eta 0:00:01\r\u001b[K     |███████████▎                    | 133kB 9.3MB/s eta 0:00:01\r\u001b[K     |████████████▏                   | 143kB 9.3MB/s eta 0:00:01\r\u001b[K     |█████████████                   | 153kB 9.3MB/s eta 0:00:01\r\u001b[K     |█████████████▉                  | 163kB 9.3MB/s eta 0:00:01\r\u001b[K     |██████████████▊                 | 174kB 9.3MB/s eta 0:00:01\r\u001b[K     |███████████████▋                | 184kB 9.3MB/s eta 0:00:01\r\u001b[K     |████████████████▌               | 194kB 9.3MB/s eta 0:00:01\r\u001b[K     |█████████████████▍              | 204kB 9.3MB/s eta 0:00:01\r\u001b[K     |██████████████████▏             | 215kB 9.3MB/s eta 0:00:01\r\u001b[K     |███████████████████             | 225kB 9.3MB/s eta 0:00:01\r\u001b[K     |████████████████████            | 235kB 9.3MB/s eta 0:00:01\r\u001b[K     |████████████████████▉           | 245kB 9.3MB/s eta 0:00:01\r\u001b[K     |█████████████████████▊          | 256kB 9.3MB/s eta 0:00:01\r\u001b[K     |██████████████████████▌         | 266kB 9.3MB/s eta 0:00:01\r\u001b[K     |███████████████████████▍        | 276kB 9.3MB/s eta 0:00:01\r\u001b[K     |████████████████████████▎       | 286kB 9.3MB/s eta 0:00:01\r\u001b[K     |█████████████████████████▏      | 296kB 9.3MB/s eta 0:00:01\r\u001b[K     |██████████████████████████      | 307kB 9.3MB/s eta 0:00:01\r\u001b[K     |██████████████████████████▉     | 317kB 9.3MB/s eta 0:00:01\r\u001b[K     |███████████████████████████▊    | 327kB 9.3MB/s eta 0:00:01\r\u001b[K     |████████████████████████████▋   | 337kB 9.3MB/s eta 0:00:01\r\u001b[K     |█████████████████████████████▌  | 348kB 9.3MB/s eta 0:00:01\r\u001b[K     |██████████████████████████████▍ | 358kB 9.3MB/s eta 0:00:01\r\u001b[K     |███████████████████████████████▏| 368kB 9.3MB/s eta 0:00:01\r\u001b[K     |████████████████████████████████| 378kB 9.3MB/s \n",
            "\u001b[?25hRequirement already satisfied: scipy>=0.14 in /usr/local/lib/python3.6/dist-packages (from keras==2.3.1) (1.4.1)\n",
            "Requirement already satisfied: numpy>=1.9.1 in /usr/local/lib/python3.6/dist-packages (from keras==2.3.1) (1.19.4)\n",
            "Collecting keras-applications>=1.0.6\n",
            "\u001b[?25l  Downloading https://files.pythonhosted.org/packages/71/e3/19762fdfc62877ae9102edf6342d71b28fbfd9dea3d2f96a882ce099b03f/Keras_Applications-1.0.8-py3-none-any.whl (50kB)\n",
            "\u001b[K     |████████████████████████████████| 51kB 5.2MB/s \n",
            "\u001b[?25hRequirement already satisfied: six>=1.9.0 in /usr/local/lib/python3.6/dist-packages (from keras==2.3.1) (1.15.0)\n",
            "Requirement already satisfied: keras-preprocessing>=1.0.5 in /usr/local/lib/python3.6/dist-packages (from keras==2.3.1) (1.1.2)\n",
            "Requirement already satisfied: pyyaml in /usr/local/lib/python3.6/dist-packages (from keras==2.3.1) (3.13)\n",
            "Requirement already satisfied: h5py in /usr/local/lib/python3.6/dist-packages (from keras==2.3.1) (2.10.0)\n",
            "Installing collected packages: keras-applications, keras\n",
            "  Found existing installation: Keras 2.4.3\n",
            "    Uninstalling Keras-2.4.3:\n",
            "      Successfully uninstalled Keras-2.4.3\n",
            "Successfully installed keras-2.3.1 keras-applications-1.0.8\n"
          ],
          "name": "stdout"
        }
      ]
    },
    {
      "cell_type": "code",
      "metadata": {
        "id": "lHp2pfb1vmlz"
      },
      "source": [
        "import numpy as np\r\n",
        "import pandas as pd\r\n",
        "from tensorflow.keras.preprocessing.image import load_img, img_to_array\r\n",
        "from tensorflow.keras.applications.resnet import preprocess_input"
      ],
      "execution_count": 4,
      "outputs": []
    },
    {
      "cell_type": "code",
      "metadata": {
        "id": "c0A-2y0hvrcZ"
      },
      "source": [
        "img_width, img_height = 224, 224"
      ],
      "execution_count": 5,
      "outputs": []
    },
    {
      "cell_type": "code",
      "metadata": {
        "id": "E4FrY6GFvwmV"
      },
      "source": [
        "def preprocess_image(path):\r\n",
        "    img = load_img(path, target_size = (img_height, img_width))\r\n",
        "    a = img_to_array(img)\r\n",
        "    a = np.expand_dims(a, axis = 0)\r\n",
        "    a = preprocess_input(a)\r\n",
        "    return a"
      ],
      "execution_count": 6,
      "outputs": []
    },
    {
      "cell_type": "code",
      "metadata": {
        "id": "VHMLQyOMv1pn"
      },
      "source": [
        "import os\r\n",
        "os.chdir('drive/MyDrive/MASK/')"
      ],
      "execution_count": 7,
      "outputs": []
    },
    {
      "cell_type": "markdown",
      "metadata": {
        "id": "yX7WJceyv8m5"
      },
      "source": [
        "# Using RESNET50"
      ]
    },
    {
      "cell_type": "code",
      "metadata": {
        "colab": {
          "base_uri": "https://localhost:8080/"
        },
        "id": "Lo2RMAf9v6YQ",
        "outputId": "dec37124-d1e7-4c05-e020-5015c83ce8b5"
      },
      "source": [
        "from tensorflow.keras.applications.resnet50 import ResNet50, preprocess_input\r\n",
        "from tensorflow.keras import Sequential\r\n",
        "from tensorflow.keras.layers import Conv2D, Flatten, Dense\r\n",
        "\r\n",
        "HEIGHT = 224\r\n",
        "WIDTH = 224\r\n",
        "\r\n",
        "base_model = ResNet50(weights='imagenet', \r\n",
        "                      include_top=False, \r\n",
        "                      input_shape=(HEIGHT, WIDTH, 3))"
      ],
      "execution_count": 8,
      "outputs": [
        {
          "output_type": "stream",
          "text": [
            "Downloading data from https://storage.googleapis.com/tensorflow/keras-applications/resnet/resnet50_weights_tf_dim_ordering_tf_kernels_notop.h5\n",
            "94773248/94765736 [==============================] - 1s 0us/step\n"
          ],
          "name": "stdout"
        }
      ]
    },
    {
      "cell_type": "markdown",
      "metadata": {
        "id": "yeE7G4DuwMyU"
      },
      "source": [
        "# DATA PREPROCESSING"
      ]
    },
    {
      "cell_type": "code",
      "metadata": {
        "colab": {
          "base_uri": "https://localhost:8080/"
        },
        "id": "AYqNQ0WCwJHh",
        "outputId": "3f3ea08c-1838-4223-da67-ada4c0d0f348"
      },
      "source": [
        "from tensorflow.keras.preprocessing.image import ImageDataGenerator\r\n",
        "\r\n",
        "TRAIN_DIR = \"train/\"\r\n",
        "BATCH_SIZE = 8\r\n",
        "\r\n",
        "train_datagen =  ImageDataGenerator(\r\n",
        "      preprocessing_function=preprocess_input,\r\n",
        "      rotation_range=90,\r\n",
        "      horizontal_flip=True,\r\n",
        "      vertical_flip=True\r\n",
        "    )\r\n",
        "\r\n",
        "train_generator = train_datagen.flow_from_directory(TRAIN_DIR, \r\n",
        "                                                    target_size=(HEIGHT, WIDTH), \r\n",
        "                                                    batch_size=BATCH_SIZE)\r\n",
        "\r\n",
        "\r\n",
        "test_datagen =  ImageDataGenerator(\r\n",
        "      preprocessing_function=preprocess_input,\r\n",
        "      rotation_range=90,\r\n",
        "      horizontal_flip=True,\r\n",
        "      vertical_flip=True\r\n",
        "    )\r\n",
        "validation_generator = test_datagen.flow_from_directory(\r\n",
        "        'test/',\r\n",
        "        target_size=(HEIGHT, WIDTH),\r\n",
        "        batch_size=BATCH_SIZE)"
      ],
      "execution_count": 9,
      "outputs": [
        {
          "output_type": "stream",
          "text": [
            "Found 1556 images belonging to 2 classes.\n",
            "Found 300 images belonging to 2 classes.\n"
          ],
          "name": "stdout"
        }
      ]
    },
    {
      "cell_type": "markdown",
      "metadata": {
        "id": "I2cU-A5JwkWS"
      },
      "source": [
        "# BUILDING MODEL"
      ]
    },
    {
      "cell_type": "code",
      "metadata": {
        "id": "5Eeg-_uKwhKK"
      },
      "source": [
        "from tensorflow.keras.layers import Dense, Activation, Flatten, Dropout\r\n",
        "from tensorflow.keras.models import Sequential, Model\r\n",
        "from tensorflow.keras.layers import AveragePooling2D\r\n",
        "\r\n",
        "def build_finetune_model(base_model, dropout, fc_layers, num_classes):\r\n",
        "    for layer in base_model.layers:\r\n",
        "        layer.trainable = False\r\n",
        "\r\n",
        "    x = base_model.output\r\n",
        "    # x = AveragePooling2D(pool_size=(7, 7))(x)\r\n",
        "    x = Flatten()(x)\r\n",
        "    for fc in fc_layers:\r\n",
        "        # New FC layer, random init\r\n",
        "        x = Dense(fc, activation='relu')(x) \r\n",
        "        x = Dropout(dropout)(x)\r\n",
        "\r\n",
        "    # New softmax layer\r\n",
        "    predictions = Dense(num_classes, activation='softmax')(x) \r\n",
        "    \r\n",
        "    finetune_model = Model(inputs=base_model.input, outputs=predictions)\r\n",
        "\r\n",
        "    return finetune_model\r\n",
        "\r\n",
        "class_list = os.listdir(\"train/\")\r\n",
        "FC_LAYERS = [1024, 1024]\r\n",
        "dropout = 0.5\r\n",
        "\r\n",
        "finetune_model = build_finetune_model(base_model, \r\n",
        "                                      dropout=dropout, \r\n",
        "                                      fc_layers=FC_LAYERS, \r\n",
        "                                      num_classes=len(class_list))"
      ],
      "execution_count": 23,
      "outputs": []
    },
    {
      "cell_type": "markdown",
      "metadata": {
        "id": "pptl1RaGxQPZ"
      },
      "source": [
        "# COMPLILE AND TRAIN MODEL"
      ]
    },
    {
      "cell_type": "code",
      "metadata": {
        "colab": {
          "base_uri": "https://localhost:8080/"
        },
        "id": "GUfTUPU3xMUf",
        "outputId": "b0e02b4e-d43d-47db-86f3-c3b1a871a6bb"
      },
      "source": [
        "from tensorflow.keras.optimizers import SGD, Adam\r\n",
        "from tensorflow.keras.callbacks import ModelCheckpoint\r\n",
        "import matplotlib.pyplot as plt\r\n",
        "\r\n",
        "NUM_EPOCHS = 30\r\n",
        "BATCH_SIZE = 16\r\n",
        "num_train_images = 1556\r\n",
        "\r\n",
        "adam = Adam(lr=0.00001)\r\n",
        "finetune_model.compile(adam, loss='categorical_crossentropy', metrics=['categorical_accuracy'])\r\n",
        "\r\n",
        "filepath=\"./checkpoints/\" + \"ResNet50\" + \"_model_weights.h5\"\r\n",
        "checkpoint = ModelCheckpoint(filepath, monitor=[\"acc\"], verbose=1, mode='max')\r\n",
        "callbacks_list = [checkpoint]\r\n",
        "\r\n",
        "history = finetune_model.fit_generator(train_generator, epochs=NUM_EPOCHS, workers=16, \r\n",
        "                                       steps_per_epoch=num_train_images // BATCH_SIZE, \r\n",
        "                                       shuffle=True, callbacks=callbacks_list, validation_data=validation_generator)"
      ],
      "execution_count": 24,
      "outputs": [
        {
          "output_type": "stream",
          "text": [
            "/usr/local/lib/python3.6/dist-packages/tensorflow/python/keras/engine/training.py:1844: UserWarning: `Model.fit_generator` is deprecated and will be removed in a future version. Please use `Model.fit`, which supports generators.\n",
            "  warnings.warn('`Model.fit_generator` is deprecated and '\n"
          ],
          "name": "stderr"
        },
        {
          "output_type": "stream",
          "text": [
            "Epoch 1/30\n",
            "96/97 [============================>.] - ETA: 1s - loss: 2.1652 - categorical_accuracy: 0.4884"
          ],
          "name": "stdout"
        },
        {
          "output_type": "stream",
          "text": [
            "/usr/local/lib/python3.6/dist-packages/PIL/Image.py:932: UserWarning: Palette images with Transparency expressed in bytes should be converted to RGBA images\n",
            "  \"Palette images with Transparency expressed in bytes should be \"\n"
          ],
          "name": "stderr"
        },
        {
          "output_type": "stream",
          "text": [
            "97/97 [==============================] - 171s 2s/step - loss: 2.1599 - categorical_accuracy: 0.4887 - val_loss: 0.7997 - val_categorical_accuracy: 0.6133\n",
            "\n",
            "Epoch 00001: saving model to ./checkpoints/ResNet50_model_weights.h5\n",
            "Epoch 2/30\n",
            "97/97 [==============================] - 169s 2s/step - loss: 1.5460 - categorical_accuracy: 0.5837 - val_loss: 0.8922 - val_categorical_accuracy: 0.5967\n",
            "\n",
            "Epoch 00002: saving model to ./checkpoints/ResNet50_model_weights.h5\n",
            "Epoch 3/30\n",
            "97/97 [==============================] - 168s 2s/step - loss: 1.4959 - categorical_accuracy: 0.5814 - val_loss: 0.7222 - val_categorical_accuracy: 0.6667\n",
            "\n",
            "Epoch 00003: saving model to ./checkpoints/ResNet50_model_weights.h5\n",
            "Epoch 4/30\n",
            "97/97 [==============================] - 169s 2s/step - loss: 1.3185 - categorical_accuracy: 0.5390 - val_loss: 0.7568 - val_categorical_accuracy: 0.6300\n",
            "\n",
            "Epoch 00004: saving model to ./checkpoints/ResNet50_model_weights.h5\n",
            "Epoch 5/30\n",
            "97/97 [==============================] - 169s 2s/step - loss: 1.1569 - categorical_accuracy: 0.5889 - val_loss: 1.0168 - val_categorical_accuracy: 0.5933\n",
            "\n",
            "Epoch 00005: saving model to ./checkpoints/ResNet50_model_weights.h5\n",
            "Epoch 6/30\n",
            "97/97 [==============================] - 169s 2s/step - loss: 1.2010 - categorical_accuracy: 0.6141 - val_loss: 0.6579 - val_categorical_accuracy: 0.6567\n",
            "\n",
            "Epoch 00006: saving model to ./checkpoints/ResNet50_model_weights.h5\n",
            "Epoch 7/30\n",
            "97/97 [==============================] - 169s 2s/step - loss: 0.9231 - categorical_accuracy: 0.6620 - val_loss: 0.6321 - val_categorical_accuracy: 0.6767\n",
            "\n",
            "Epoch 00007: saving model to ./checkpoints/ResNet50_model_weights.h5\n",
            "Epoch 8/30\n",
            "97/97 [==============================] - 170s 2s/step - loss: 0.9271 - categorical_accuracy: 0.6524 - val_loss: 0.6854 - val_categorical_accuracy: 0.6767\n",
            "\n",
            "Epoch 00008: saving model to ./checkpoints/ResNet50_model_weights.h5\n",
            "Epoch 9/30\n",
            "97/97 [==============================] - 171s 2s/step - loss: 0.9331 - categorical_accuracy: 0.6248 - val_loss: 0.6549 - val_categorical_accuracy: 0.6733\n",
            "\n",
            "Epoch 00009: saving model to ./checkpoints/ResNet50_model_weights.h5\n",
            "Epoch 10/30\n",
            "97/97 [==============================] - 169s 2s/step - loss: 0.9202 - categorical_accuracy: 0.6190 - val_loss: 0.6361 - val_categorical_accuracy: 0.6900\n",
            "\n",
            "Epoch 00010: saving model to ./checkpoints/ResNet50_model_weights.h5\n",
            "Epoch 11/30\n",
            "97/97 [==============================] - 170s 2s/step - loss: 0.8548 - categorical_accuracy: 0.6380 - val_loss: 0.7428 - val_categorical_accuracy: 0.6500\n",
            "\n",
            "Epoch 00011: saving model to ./checkpoints/ResNet50_model_weights.h5\n",
            "Epoch 12/30\n",
            "97/97 [==============================] - 169s 2s/step - loss: 0.7909 - categorical_accuracy: 0.6333 - val_loss: 0.6192 - val_categorical_accuracy: 0.6667\n",
            "\n",
            "Epoch 00012: saving model to ./checkpoints/ResNet50_model_weights.h5\n",
            "Epoch 13/30\n",
            "97/97 [==============================] - 170s 2s/step - loss: 0.8217 - categorical_accuracy: 0.6416 - val_loss: 0.6469 - val_categorical_accuracy: 0.6633\n",
            "\n",
            "Epoch 00013: saving model to ./checkpoints/ResNet50_model_weights.h5\n",
            "Epoch 14/30\n",
            "97/97 [==============================] - 170s 2s/step - loss: 0.7497 - categorical_accuracy: 0.6299 - val_loss: 0.5804 - val_categorical_accuracy: 0.6867\n",
            "\n",
            "Epoch 00014: saving model to ./checkpoints/ResNet50_model_weights.h5\n",
            "Epoch 15/30\n",
            "97/97 [==============================] - 171s 2s/step - loss: 0.7000 - categorical_accuracy: 0.6706 - val_loss: 0.5971 - val_categorical_accuracy: 0.6967\n",
            "\n",
            "Epoch 00015: saving model to ./checkpoints/ResNet50_model_weights.h5\n",
            "Epoch 16/30\n",
            "97/97 [==============================] - 170s 2s/step - loss: 0.6789 - categorical_accuracy: 0.6787 - val_loss: 0.6319 - val_categorical_accuracy: 0.7033\n",
            "\n",
            "Epoch 00016: saving model to ./checkpoints/ResNet50_model_weights.h5\n",
            "Epoch 17/30\n",
            "97/97 [==============================] - 170s 2s/step - loss: 0.7428 - categorical_accuracy: 0.6830 - val_loss: 0.6208 - val_categorical_accuracy: 0.6967\n",
            "\n",
            "Epoch 00017: saving model to ./checkpoints/ResNet50_model_weights.h5\n",
            "Epoch 18/30\n",
            "97/97 [==============================] - 170s 2s/step - loss: 0.6122 - categorical_accuracy: 0.6875 - val_loss: 0.5586 - val_categorical_accuracy: 0.7400\n",
            "\n",
            "Epoch 00018: saving model to ./checkpoints/ResNet50_model_weights.h5\n",
            "Epoch 19/30\n",
            "97/97 [==============================] - 170s 2s/step - loss: 0.6697 - categorical_accuracy: 0.7060 - val_loss: 0.5828 - val_categorical_accuracy: 0.7233\n",
            "\n",
            "Epoch 00019: saving model to ./checkpoints/ResNet50_model_weights.h5\n",
            "Epoch 20/30\n",
            "97/97 [==============================] - 169s 2s/step - loss: 0.6982 - categorical_accuracy: 0.6797 - val_loss: 0.6452 - val_categorical_accuracy: 0.6933\n",
            "\n",
            "Epoch 00020: saving model to ./checkpoints/ResNet50_model_weights.h5\n",
            "Epoch 21/30\n",
            "97/97 [==============================] - 169s 2s/step - loss: 0.7270 - categorical_accuracy: 0.6536 - val_loss: 0.6492 - val_categorical_accuracy: 0.6733\n",
            "\n",
            "Epoch 00021: saving model to ./checkpoints/ResNet50_model_weights.h5\n",
            "Epoch 22/30\n",
            "97/97 [==============================] - 169s 2s/step - loss: 0.6949 - categorical_accuracy: 0.6996 - val_loss: 0.6177 - val_categorical_accuracy: 0.6833\n",
            "\n",
            "Epoch 00022: saving model to ./checkpoints/ResNet50_model_weights.h5\n",
            "Epoch 23/30\n",
            "97/97 [==============================] - 170s 2s/step - loss: 0.5737 - categorical_accuracy: 0.7194 - val_loss: 0.5745 - val_categorical_accuracy: 0.7133\n",
            "\n",
            "Epoch 00023: saving model to ./checkpoints/ResNet50_model_weights.h5\n",
            "Epoch 24/30\n",
            "97/97 [==============================] - 170s 2s/step - loss: 0.7053 - categorical_accuracy: 0.6846 - val_loss: 0.5305 - val_categorical_accuracy: 0.7433\n",
            "\n",
            "Epoch 00024: saving model to ./checkpoints/ResNet50_model_weights.h5\n",
            "Epoch 25/30\n",
            "97/97 [==============================] - 169s 2s/step - loss: 0.5667 - categorical_accuracy: 0.7125 - val_loss: 0.6456 - val_categorical_accuracy: 0.6867\n",
            "\n",
            "Epoch 00025: saving model to ./checkpoints/ResNet50_model_weights.h5\n",
            "Epoch 26/30\n",
            "97/97 [==============================] - 170s 2s/step - loss: 0.6116 - categorical_accuracy: 0.6954 - val_loss: 0.5682 - val_categorical_accuracy: 0.7033\n",
            "\n",
            "Epoch 00026: saving model to ./checkpoints/ResNet50_model_weights.h5\n",
            "Epoch 27/30\n",
            "97/97 [==============================] - 170s 2s/step - loss: 0.6050 - categorical_accuracy: 0.6977 - val_loss: 0.5181 - val_categorical_accuracy: 0.7567\n",
            "\n",
            "Epoch 00027: saving model to ./checkpoints/ResNet50_model_weights.h5\n",
            "Epoch 28/30\n",
            "97/97 [==============================] - 170s 2s/step - loss: 0.6089 - categorical_accuracy: 0.7019 - val_loss: 0.6425 - val_categorical_accuracy: 0.6767\n",
            "\n",
            "Epoch 00028: saving model to ./checkpoints/ResNet50_model_weights.h5\n",
            "Epoch 29/30\n",
            "97/97 [==============================] - 171s 2s/step - loss: 0.5790 - categorical_accuracy: 0.6917 - val_loss: 0.6321 - val_categorical_accuracy: 0.7133\n",
            "\n",
            "Epoch 00029: saving model to ./checkpoints/ResNet50_model_weights.h5\n",
            "Epoch 30/30\n",
            "97/97 [==============================] - 171s 2s/step - loss: 0.5487 - categorical_accuracy: 0.7424 - val_loss: 0.5397 - val_categorical_accuracy: 0.7067\n",
            "\n",
            "Epoch 00030: saving model to ./checkpoints/ResNet50_model_weights.h5\n"
          ],
          "name": "stdout"
        }
      ]
    },
    {
      "cell_type": "code",
      "metadata": {
        "colab": {
          "base_uri": "https://localhost:8080/"
        },
        "id": "1ZP-ZId8Eqvl",
        "outputId": "d6220506-b7fc-41fc-9567-58fc5ce81793"
      },
      "source": [
        "history.history.keys()"
      ],
      "execution_count": 25,
      "outputs": [
        {
          "output_type": "execute_result",
          "data": {
            "text/plain": [
              "dict_keys(['loss', 'categorical_accuracy', 'val_loss', 'val_categorical_accuracy'])"
            ]
          },
          "metadata": {
            "tags": []
          },
          "execution_count": 25
        }
      ]
    },
    {
      "cell_type": "code",
      "metadata": {
        "colab": {
          "base_uri": "https://localhost:8080/",
          "height": 295
        },
        "id": "HTbv07LAxOPb",
        "outputId": "e06f8a3c-0c15-4c16-a2d0-9de6038d7166"
      },
      "source": [
        "import matplotlib.pyplot as plt\r\n",
        "plt.plot(history.history['categorical_accuracy'])\r\n",
        "plt.plot(history.history['val_categorical_accuracy'])\r\n",
        "plt.title('model accuracy')\r\n",
        "plt.ylabel('accuracy')\r\n",
        "plt.xlabel('epoch')\r\n",
        "plt.legend(['train', 'val'], loc='upper left')\r\n",
        "plt.show()"
      ],
      "execution_count": 26,
      "outputs": [
        {
          "output_type": "display_data",
          "data": {
            "image/png": "[encoded data removed]",
            "text/plain": [
              "<Figure size 432x288 with 1 Axes>"
            ]
          },
          "metadata": {
            "tags": [],
            "needs_background": "light"
          }
        }
      ]
    },
    {
      "cell_type": "code",
      "metadata": {
        "colab": {
          "base_uri": "https://localhost:8080/"
        },
        "id": "8EsOfC0lyNLE",
        "outputId": "e83eab72-1bd1-4791-9020-32fcf1f923fe"
      },
      "source": [
        "finetune_model.evaluate(validation_generator)"
      ],
      "execution_count": 27,
      "outputs": [
        {
          "output_type": "stream",
          "text": [
            "38/38 [==============================] - 38s 983ms/step - loss: 0.5771 - categorical_accuracy: 0.7467\n"
          ],
          "name": "stdout"
        },
        {
          "output_type": "execute_result",
          "data": {
            "text/plain": [
              "[0.5771040916442871, 0.746666669845581]"
            ]
          },
          "metadata": {
            "tags": []
          },
          "execution_count": 27
        }
      ]
    },
    {
      "cell_type": "code",
      "metadata": {
        "id": "ccmo-l5FyRzu"
      },
      "source": [
        "from sklearn.metrics import confusion_matrix\r\n",
        "from sklearn.metrics import plot_confusion_matrix"
      ],
      "execution_count": 28,
      "outputs": []
    },
    {
      "cell_type": "code",
      "metadata": {
        "id": "bFFsiwpVyUBZ"
      },
      "source": [
        "predictions1 = finetune_model.predict(x=validation_generator, verbose=0)\r\n",
        "cm = confusion_matrix(y_true=validation_generator.classes, y_pred=np.argmax(predictions1, axis=-1))"
      ],
      "execution_count": 29,
      "outputs": []
    },
    {
      "cell_type": "code",
      "metadata": {
        "colab": {
          "base_uri": "https://localhost:8080/",
          "height": 295
        },
        "id": "shpqCFN0yV50",
        "outputId": "5a293655-7502-4faf-d1ea-3af6a6977cbb"
      },
      "source": [
        "import seaborn as sns\r\n",
        "import matplotlib.pyplot as plt     \r\n",
        "\r\n",
        "ax= plt.subplot()\r\n",
        "sns.heatmap(cm, annot=True, ax = ax); #annot=True to annotate cells\r\n",
        "labels_ = ['male', 'female']\r\n",
        "# labels, title and ticks\r\n",
        "ax.set_xlabel('Predicted labels');ax.set_ylabel('True labels'); \r\n",
        "ax.set_title('Confusion Matrix'); \r\n",
        "ax.xaxis.set_ticklabels(labels_); ax.yaxis.set_ticklabels(labels_);"
      ],
      "execution_count": 30,
      "outputs": [
        {
          "output_type": "display_data",
          "data": {
            "image/png": "[encoded data removed]",
            "text/plain": [
              "<Figure size 432x288 with 2 Axes>"
            ]
          },
          "metadata": {
            "tags": [],
            "needs_background": "light"
          }
        }
      ]
    },
    {
      "cell_type": "code",
      "metadata": {
        "id": "jwK6QzWRysAk"
      },
      "source": [
        "finetune_model.save('mask_gender74_model.h5')"
      ],
      "execution_count": 31,
      "outputs": []
    },
    {
      "cell_type": "code",
      "metadata": {
        "colab": {
          "base_uri": "https://localhost:8080/",
          "height": 35
        },
        "id": "aEiS1B_DFuCs",
        "outputId": "e3d2e2c3-8169-4a07-820f-be79e66acf85"
      },
      "source": [
        "os.getcwd()"
      ],
      "execution_count": 22,
      "outputs": [
        {
          "output_type": "execute_result",
          "data": {
            "application/vnd.google.colaboratory.intrinsic+json": {
              "type": "string"
            },
            "text/plain": [
              "'/content/drive/My Drive/MASK'"
            ]
          },
          "metadata": {
            "tags": []
          },
          "execution_count": 22
        }
      ]
    },
    {
      "cell_type": "code",
      "metadata": {
        "id": "gLsbePFDGQPs"
      },
      "source": [
        ""
      ],
      "execution_count": null,
      "outputs": []
    }
  ]
}